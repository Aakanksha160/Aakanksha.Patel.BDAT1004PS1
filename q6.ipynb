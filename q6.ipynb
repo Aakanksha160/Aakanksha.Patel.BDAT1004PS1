{
 "cells": [
  {
   "cell_type": "code",
   "execution_count": 2,
   "id": "7d776b1d",
   "metadata": {},
   "outputs": [],
   "source": [
    "def pig(word):\n",
    "    word = word.lower()  # Convert the word to lowercase\n",
    "    vowels = ['a', 'e', 'i', 'o', 'u']\n",
    "    \n",
    "    if word[0] in vowels:\n",
    "        return word + 'way'\n",
    "    else:\n",
    "        return word[1:] + word[0] + 'ay'\n"
   ]
  },
  {
   "cell_type": "code",
   "execution_count": 3,
   "id": "52261fa0",
   "metadata": {},
   "outputs": [
    {
     "name": "stdout",
     "output_type": "stream",
     "text": [
      "appyhay\n",
      "enterway\n"
     ]
    }
   ],
   "source": [
    "print(pig('happy'))  # Output: 'appyhay'\n",
    "print(pig('Enter'))  # Output: 'enterway'\n"
   ]
  },
  {
   "cell_type": "code",
   "execution_count": null,
   "id": "f6de49d5",
   "metadata": {},
   "outputs": [],
   "source": []
  }
 ],
 "metadata": {
  "kernelspec": {
   "display_name": "Python 3 (ipykernel)",
   "language": "python",
   "name": "python3"
  },
  "language_info": {
   "codemirror_mode": {
    "name": "ipython",
    "version": 3
   },
   "file_extension": ".py",
   "mimetype": "text/x-python",
   "name": "python",
   "nbconvert_exporter": "python",
   "pygments_lexer": "ipython3",
   "version": "3.11.2"
  }
 },
 "nbformat": 4,
 "nbformat_minor": 5
}
