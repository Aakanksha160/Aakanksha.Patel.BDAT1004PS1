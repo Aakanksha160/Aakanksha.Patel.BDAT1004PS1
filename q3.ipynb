{
 "cells": [
  {
   "cell_type": "code",
   "execution_count": 2,
   "id": "31b020aa",
   "metadata": {},
   "outputs": [
    {
     "name": "stdout",
     "output_type": "stream",
     "text": [
      "1.7320508075688772\r\n"
     ]
    }
   ],
   "source": [
    "//uestion 3 C#\n",
    "//Implement function triangleArea(a,b,c) that takes as input the lengths of the 3 \n",
    "//sides of a triangle and returns the area of the triangle. By Heron's formula, the area \n",
    "//of a triangle with side lengths a, b, and c is s(s − a)(s −b)(s −c), where\n",
    "//s = (a + b + c)/2.\n",
    "//>>> triangleArea(2,2,2) \n",
    "//1.7320508075688772\n",
    "    \n",
    "    double TriangleArea(double a, double b, double c)\n",
    "    {\n",
    "        double s = (a + b + c) / 2;\n",
    "        double area = Math.Sqrt(s * (s - a) * (s - b) * (s - c));\n",
    "        return area;\n",
    "    }\n",
    "  \n",
    "    {\n",
    "        // Example usage\n",
    "        double area = TriangleArea(2, 2, 2);\n",
    "        Console.WriteLine(area);\n",
    "    }\n",
    "\n",
    "\n",
    " "
   ]
  },
  {
   "cell_type": "code",
   "execution_count": null,
   "id": "912291dd",
   "metadata": {},
   "outputs": [],
   "source": []
  }
 ],
 "metadata": {
  "kernelspec": {
   "display_name": ".NET (C#)",
   "language": "C#",
   "name": ".net-csharp"
  },
  "language_info": {
   "file_extension": ".cs",
   "mimetype": "text/x-csharp",
   "name": "C#",
   "pygments_lexer": "csharp",
   "version": "11.0"
  }
 },
 "nbformat": 4,
 "nbformat_minor": 5
}
