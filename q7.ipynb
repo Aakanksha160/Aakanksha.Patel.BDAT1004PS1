{
 "cells": [
  {
   "cell_type": "code",
   "execution_count": 2,
   "id": "89e97046",
   "metadata": {},
   "outputs": [
    {
     "name": "stdout",
     "output_type": "stream",
     "text": [
      "There are 0 patients of blood type A.\n",
      "There are 0 patients of blood type B.\n",
      "There are 0 patients of blood type AB.\n",
      "There are 0 patients of blood type O.\n",
      "There are 0 patients of blood type OO.\n"
     ]
    }
   ],
   "source": [
    "def bldcount(bloodtype1):\n",
    "    blood_types = ['A', 'B', 'AB', 'O', 'OO']\n",
    "    count = {blood_type: 0 for blood_type in blood_types}\n",
    "\n",
    "    with open(\"bloodtype1.txt\", \"r\") as file:\n",
    "        for line in file:\n",
    "            blood_type = line.strip()\n",
    "            if blood_type in count:\n",
    "                count[blood_type] += 1\n",
    "\n",
    "    for blood_type, patients in count.items():\n",
    "        if patients == 1:\n",
    "            print(f\"There is one patient of blood type {blood_type}.\")\n",
    "        else:\n",
    "            print(f\"There are {patients} patients of blood type {blood_type}.\")\n",
    "\n",
    "bldcount('bloodtype1.txt')\n"
   ]
  },
  {
   "cell_type": "code",
   "execution_count": null,
   "id": "c36d41a1",
   "metadata": {},
   "outputs": [],
   "source": []
  }
 ],
 "metadata": {
  "kernelspec": {
   "display_name": "Python 3 (ipykernel)",
   "language": "python",
   "name": "python3"
  },
  "language_info": {
   "codemirror_mode": {
    "name": "ipython",
    "version": 3
   },
   "file_extension": ".py",
   "mimetype": "text/x-python",
   "name": "python",
   "nbconvert_exporter": "python",
   "pygments_lexer": "ipython3",
   "version": "3.11.2"
  }
 },
 "nbformat": 4,
 "nbformat_minor": 5
}
