{
 "cells": [
  {
   "cell_type": "code",
   "execution_count": 4,
   "id": "8694aada",
   "metadata": {},
   "outputs": [
    {
     "name": "stdout",
     "output_type": "stream",
     "text": [
      "Even numbers...\n",
      "42\n",
      "56\n",
      "32\n",
      "Odd numbers...\n",
      "25\n",
      "47\n"
     ]
    }
   ],
   "source": [
    "int[] arr1 = new int[] {\n",
    "            25,\n",
    "            47,\n",
    "            42,\n",
    "            56,\n",
    "            32\n",
    "         };\n",
    "         int[] arr2 = new int[5];\n",
    "         int[] arr3 = new int[5];\n",
    "         int i, j = 0, k = 0;\n",
    "         for (i = 0; i < 5; i++) {\n",
    "            if (arr1[i] % 2 == 0) {\n",
    "               arr2[j] = arr1[i];\n",
    "               j++;\n",
    "            } else {\n",
    "               arr3[k] = arr1[i];\n",
    "               k++;\n",
    "            }\n",
    "         }\n",
    "         Console.WriteLine(\"Even numbers...\");\n",
    "         for (i = 0; i < j; i++) {\n",
    "                Console.WriteLine(arr2[i]);\n",
    "         }\n",
    "         Console.WriteLine(\"Odd numbers...\");\n",
    "         for (i = 0; i < k; i++) {\n",
    "            Console.WriteLine(arr3[i]);\n",
    "         }"
   ]
  },
  {
   "cell_type": "code",
   "execution_count": null,
   "id": "da551b8f",
   "metadata": {},
   "outputs": [],
   "source": []
  }
 ],
 "metadata": {
  "kernelspec": {
   "display_name": ".NET (C#)",
   "language": "C#",
   "name": ".net-csharp"
  },
  "language_info": {
   "file_extension": ".cs",
   "mimetype": "text/x-csharp",
   "name": "C#",
   "pygments_lexer": "csharp",
   "version": "11.0"
  }
 },
 "nbformat": 4,
 "nbformat_minor": 5
}
