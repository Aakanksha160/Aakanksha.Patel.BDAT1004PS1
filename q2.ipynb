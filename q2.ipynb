{
 "cells": [
  {
   "cell_type": "code",
   "execution_count": 5,
   "id": "54c3d6ae",
   "metadata": {},
   "outputs": [
    {
     "name": "stdout",
     "output_type": "stream",
     "text": [
      "The number of letters in the word is: 34\r\n"
     ]
    }
   ],
   "source": [
    "//2.(a) . How many letters are there in 'Supercalifragilisticexpialidocious'?\n",
    "\n",
    "string word = \"Supercalifragilisticexpialidocious\";\n",
    "int letterCount = word.Length;\n",
    "Console.WriteLine(\"The number of letters in the word is: \" + letterCount);"
   ]
  },
  {
   "cell_type": "code",
   "execution_count": 6,
   "id": "2db6e4fa",
   "metadata": {},
   "outputs": [
    {
     "name": "stdout",
     "output_type": "stream",
     "text": [
      "Does the word contain 'ice' as a substring? True\r\n"
     ]
    }
   ],
   "source": [
    "//2.(b). Does 'Supercalifragilisticexpialidocious' contain 'ice' as a substring?\n",
    "\n",
    "string word = \"Supercalifragilisticexpialidocious\";\n",
    "bool containsSubstring = word.Contains(\"ice\");\n",
    "Console.WriteLine(\"Does the word contain 'ice' as a substring? \" + containsSubstring);"
   ]
  },
  {
   "cell_type": "code",
   "execution_count": 9,
   "id": "06de7e5f",
   "metadata": {},
   "outputs": [
    {
     "name": "stdout",
     "output_type": "stream",
     "text": [
      "The longest word is: Supercalifragilisticexpialidocious\r\n"
     ]
    }
   ],
   "source": [
    "//2.(c). Which of the following words is the longest: \n",
    "//Supercalifragilisticexpialidocious, Honorificabilitudinitatibus, or \n",
    "//Bababadalgharaghtakamminarronnkonn?\n",
    "\n",
    "string[] words = {\"Supercalifragilisticexpialidocious\",\"Honorificabilitudinitatibus\",\"Bababadalgharaghtakamminarronnkonn\"};\n",
    "string bword = \"\";\n",
    "foreach (string w in words)\n",
    "{\n",
    "    if (w.Length > bword.Length)\n",
    "    bword = w;\n",
    "}\n",
    "Console.WriteLine(\"The longest word is: \" + bword);"
   ]
  },
  {
   "cell_type": "code",
   "execution_count": 10,
   "id": "6498769a",
   "metadata": {},
   "outputs": [
    {
     "name": "stdout",
     "output_type": "stream",
     "text": [
      "First composer: Bartok\n",
      "Last composer: Buxtehude\n"
     ]
    }
   ],
   "source": [
    "//2.(d). Which composer comes first in the dictionary: 'Berlioz', 'Borodin', 'Brian', \n",
    "//'Bartok', 'Bellini', 'Buxtehude', 'Bernstein'.Which one comes last?\n",
    "\n",
    "string[] composers = {\"Berlioz\",\"Borodin\",\"Brian\",\"Bartok\",\"Bellini\",\"Buxtehude\",\"Bernstein\"};    \n",
    "Array.Sort(composers);    \n",
    "Console.WriteLine(\"First composer: \" + composers[0]);\n",
    "Console.WriteLine(\"Last composer: \" + composers[composers.Length - 1]);\n"
   ]
  },
  {
   "cell_type": "code",
   "execution_count": null,
   "id": "69901741",
   "metadata": {},
   "outputs": [],
   "source": []
  }
 ],
 "metadata": {
  "kernelspec": {
   "display_name": ".NET (C#)",
   "language": "C#",
   "name": ".net-csharp"
  },
  "language_info": {
   "file_extension": ".cs",
   "mimetype": "text/x-csharp",
   "name": "C#",
   "pygments_lexer": "csharp",
   "version": "11.0"
  }
 },
 "nbformat": 4,
 "nbformat_minor": 5
}
