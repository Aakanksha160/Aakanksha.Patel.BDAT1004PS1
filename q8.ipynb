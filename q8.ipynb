{
 "cells": [
  {
   "cell_type": "code",
   "execution_count": 1,
   "id": "c423d9e5",
   "metadata": {},
   "outputs": [
    {
     "name": "stdout",
     "output_type": "stream",
     "text": [
      "122.96544\n",
      "1.241401\n"
     ]
    }
   ],
   "source": [
    "def curconv(currency, amount):\n",
    "    with open(\"currencies.txt\", \"r\") as file:\n",
    "        for line in file:\n",
    "            data = line.split()\n",
    "            if data[0] == currency:\n",
    "                exchange_rate = float(data[1])\n",
    "                converted_amount = amount * exchange_rate\n",
    "                return converted_amount\n",
    "        return \"Currency not found\"\n",
    "\n",
    "# Example usage\n",
    "us_dollars = curconv('EUR', 100)\n",
    "print(us_dollars)  # Output: 122.96544\n",
    "\n",
    "us_dollars = curconv('JPY', 100)\n",
    "print(us_dollars)  # Output: 1.241401\n"
   ]
  },
  {
   "cell_type": "code",
   "execution_count": null,
   "id": "ee5b737b",
   "metadata": {},
   "outputs": [],
   "source": []
  }
 ],
 "metadata": {
  "kernelspec": {
   "display_name": "Python 3 (ipykernel)",
   "language": "python",
   "name": "python3"
  },
  "language_info": {
   "codemirror_mode": {
    "name": "ipython",
    "version": 3
   },
   "file_extension": ".py",
   "mimetype": "text/x-python",
   "name": "python",
   "nbconvert_exporter": "python",
   "pygments_lexer": "ipython3",
   "version": "3.11.2"
  }
 },
 "nbformat": 4,
 "nbformat_minor": 5
}
